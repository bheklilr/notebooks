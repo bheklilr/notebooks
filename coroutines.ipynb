{
 "cells": [
  {
   "cell_type": "markdown",
   "metadata": {},
   "source": [
    "# Coroutines through generators\n",
    "\n",
    "There are many tutorials out there showing how to use generators in Python, but most of these just show off their ability to produce data that can be looped over, such as infinite counters:"
   ]
  },
  {
   "cell_type": "code",
   "execution_count": 1,
   "metadata": {
    "collapsed": false
   },
   "outputs": [
    {
     "name": "stdout",
     "output_type": "stream",
     "text": [
      "0: a\n",
      "1: b\n",
      "2: c\n",
      "3: d\n",
      "4: e\n",
      "5: f\n",
      "6: g\n"
     ]
    }
   ],
   "source": [
    "def counter(start=0, step=1):\n",
    "    while True:\n",
    "        yield start\n",
    "        start += step\n",
    "\n",
    "for ctr, char in zip(counter(), 'abcdefg'):\n",
    "    print('{}: {}'.format(ctr, char))"
   ]
  },
  {
   "cell_type": "markdown",
   "metadata": {},
   "source": [
    "This is a great use case for generators, but it isn't the only one.  Over time I've found that the coroutine interface is very useful for modeling complex interactions.  First, we need to address what a coroutine in Python is and how to use it.\n",
    "\n",
    "Coroutines are a special kind of generator, one that allows for data to be passed in and acted upon without requiring all that data up-front.  Instead of arguments to your function, it's provided incrementally.  As a simple example, consider the following script:"
   ]
  },
  {
   "cell_type": "code",
   "execution_count": 4,
   "metadata": {
    "collapsed": false
   },
   "outputs": [
    {
     "name": "stdout",
     "output_type": "stream",
     "text": [
      "What is your name?  Aaron\n",
      "What year were you born?  1991\n",
      "Hello, Aaron!  You are 24 years old\n"
     ]
    }
   ],
   "source": [
    "def say_hello():\n",
    "    print('What is your name?', end='  ')\n",
    "    name = input()\n",
    "    print('What year were you born?', end='  ')\n",
    "    year_str = input()\n",
    "    if not year_str.isdigit():\n",
    "        print(\"That's not a real year!\")\n",
    "    else:\n",
    "        print('Hello, {}!  You are {} years old'.format(name, 2015 - int(year_str)))\n",
    "\n",
    "say_hello()"
   ]
  },
  {
   "cell_type": "markdown",
   "metadata": {},
   "source": [
    "How would you test this function?  How would you abstract out the IO so that you can run the tests automatically?  Sure, you could override `sys.stdin` and `sys.stdout`, making sure to reset them to `sys.__stdin__` and `sys.__stdout__` after you're done, but that only works because we're working with the `std*` files, in real applications user interaction is much more complicated.\n",
    "\n",
    "Say you have a new application where the user needs to select options on multiple screens before their new account is created.  You also need to support multiple user languages.  Next, your boss requests that you add the ability to batch import new users from a CSV file since BigClient wants to enroll all their employees at once.  You could write your method to pull in the localizations, and then another method with similar logic for processing a CSV file, wrapping it up in a class to minimize code duplication:"
   ]
  },
  {
   "cell_type": "code",
   "execution_count": 6,
   "metadata": {
    "collapsed": true
   },
   "outputs": [],
   "source": [
    "class Enroller:\n",
    "    def _enroll_user(self, name, email, password, initial_preferences):\n",
    "        new_user = User(name, email, password, initial_preferences)\n",
    "        new_user.validate()\n",
    "        self.db.insert_user(new_user)\n",
    "    \n",
    "    def enroll_user_stdio(self):\n",
    "        name = input(self.translate('name'))\n",
    "        email = input(self.translate('email'))\n",
    "        password = input(self.translate('password'))\n",
    "        initial_preferences = input(self.translate('light_or_dark_theme'))\n",
    "        self._enroll_user(name, email, password, initial_preferences)\n",
    "    \n",
    "    def enroll_users_from_csv(self, filename):\n",
    "        with open(filename) as f:\n",
    "            f.readline() # Skip the header, do we know what order the records are in?\n",
    "            for line in f:\n",
    "                name, email, password, initial_preferences = line.split(',')\n",
    "                self._enroll_user(name, email, password, initial_preferences)"
   ]
  },
  {
   "cell_type": "markdown",
   "metadata": {},
   "source": [
    "This isn't the worst code on the planet, but there are some obvious problems.  We're mixing user interaction and file IO with providing translations and inserting records.  We also are assuming the order of the records in the file, and assuming that we will always have all the fields available when reading from a file.  It also always commits to the database, meaning that has to be mocked just to test this logic.  Instead, we could use a coroutine that provides the business logic and we can have multiple \"interpreters\" on it:"
   ]
  },
  {
   "cell_type": "code",
   "execution_count": null,
   "metadata": {
    "collapsed": true
   },
   "outputs": [],
   "source": [
    "import pandas as pd\n",
    "\n",
    "\n",
    "def enroll_user():\n",
    "    name = yield 'name'\n",
    "    email = yield 'email'\n",
    "    password = yield 'password'\n",
    "    initial_preferences = yield 'initial_preferences'\n",
    "    new_user = User(name, email, password, initial_preferences)\n",
    "    new_user.validate()\n",
    "    yield new_user\n",
    "\n",
    "class Enroller:\n",
    "    def enroll_user_stdio(self):\n",
    "        enroll = enroll_user()\n",
    "        prompt = enroll.send()  # First call to .send (or .next) gets to the first yield\n",
    "        while not isinstance(prompt, User):\n",
    "            response = input(self.translate(prompt))\n",
    "            prompt = enroll.send(response)\n",
    "        self.db.insert_user(new_user)\n",
    "    \n",
    "    def enroll_users_from_csv(self, filename):\n",
    "        data = pd.read_csv(filename)\n",
    "        for row in data:\n",
    "            enroll = enroll_user()\n",
    "            prompt = enroll.send()\n",
    "            while not isinstance(prompt, User):\n",
    "                try:\n",
    "                    response = row[prompt]\n",
    "                    prompt = enroll.send(response)\n",
    "                except:\n",
    "                    pass"
   ]
  }
 ],
 "metadata": {
  "kernelspec": {
   "display_name": "Python 3",
   "language": "python",
   "name": "python3"
  },
  "language_info": {
   "codemirror_mode": {
    "name": "ipython",
    "version": 3
   },
   "file_extension": ".py",
   "mimetype": "text/x-python",
   "name": "python",
   "nbconvert_exporter": "python",
   "pygments_lexer": "ipython3",
   "version": "3.4.2"
  }
 },
 "nbformat": 4,
 "nbformat_minor": 0
}
